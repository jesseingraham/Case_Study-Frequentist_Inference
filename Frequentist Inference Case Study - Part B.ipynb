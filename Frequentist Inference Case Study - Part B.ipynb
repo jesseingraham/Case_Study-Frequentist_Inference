{
 "cells": [
  {
   "cell_type": "markdown",
   "metadata": {},
   "source": [
    "# Frequentist Inference Case Study - Part B"
   ]
  },
  {
   "cell_type": "markdown",
   "metadata": {},
   "source": [
    "## Learning objectives"
   ]
  },
  {
   "cell_type": "markdown",
   "metadata": {},
   "source": [
    "Welcome to Part B of the Frequentist inference case study! The purpose of this case study is to help you apply the concepts associated with Frequentist inference in Python. In particular, you'll practice writing Python code to apply the following statistical concepts: \n",
    "* the _z_-statistic\n",
    "* the _t_-statistic\n",
    "* the difference and relationship between the two\n",
    "* the Central Limit Theorem, including its assumptions and consequences\n",
    "* how to estimate the population mean and standard deviation from a sample\n",
    "* the concept of a sampling distribution of a test statistic, particularly for the mean\n",
    "* how to combine these concepts to calculate a confidence interval"
   ]
  },
  {
   "cell_type": "markdown",
   "metadata": {},
   "source": [
    "In the previous notebook, we used only data from a known normal distribution. **You'll now tackle real data, rather than simulated data, and answer some relevant real-world business problems using the data.**"
   ]
  },
  {
   "cell_type": "markdown",
   "metadata": {},
   "source": [
    "## Hospital medical charges"
   ]
  },
  {
   "cell_type": "markdown",
   "metadata": {},
   "source": [
    "Imagine that a hospital has hired you as their data scientist. An administrator is working on the hospital's business operations plan and needs you to help them answer some business questions. \n",
    "\n",
    "In this assignment notebook, you're going to use frequentist statistical inference on a data sample to answer the questions:\n",
    "* has the hospital's revenue stream fallen below a key threshold?\n",
    "* are patients with insurance really charged different amounts than those without?\n",
    "\n",
    "Answering that last question with a frequentist approach makes some assumptions, and requires some knowledge, about the two groups."
   ]
  },
  {
   "cell_type": "markdown",
   "metadata": {},
   "source": [
    "We are going to use some data on medical charges obtained from [Kaggle](https://www.kaggle.com/easonlai/sample-insurance-claim-prediction-dataset). \n",
    "\n",
    "For the purposes of this exercise, assume the observations are the result of random sampling from our single hospital. Recall that in the previous assignment, we introduced the Central Limit Theorem (CLT), and its consequence that the distributions of sample statistics approach a normal distribution as $n$ increases. The amazing thing about this is that it applies to the sampling distributions of statistics that have been calculated from even highly non-normal distributions of data! Recall, also, that hypothesis testing is very much based on making inferences about such sample statistics. You're going to rely heavily on the CLT to apply frequentist (parametric) tests to answer the questions in this notebook."
   ]
  },
  {
   "cell_type": "code",
   "execution_count": 35,
   "metadata": {},
   "outputs": [],
   "source": [
    "import pandas as pd\n",
    "import numpy as np\n",
    "import matplotlib.pyplot as plt\n",
    "from scipy.stats import t, norm, ttest_ind\n",
    "from numpy.random import seed\n",
    "medical = pd.read_csv('insurance2.csv')"
   ]
  },
  {
   "cell_type": "code",
   "execution_count": 2,
   "metadata": {},
   "outputs": [
    {
     "data": {
      "text/plain": [
       "(1338, 8)"
      ]
     },
     "execution_count": 2,
     "metadata": {},
     "output_type": "execute_result"
    }
   ],
   "source": [
    "medical.shape"
   ]
  },
  {
   "cell_type": "code",
   "execution_count": 4,
   "metadata": {},
   "outputs": [
    {
     "data": {
      "text/html": [
       "<div>\n",
       "<style scoped>\n",
       "    .dataframe tbody tr th:only-of-type {\n",
       "        vertical-align: middle;\n",
       "    }\n",
       "\n",
       "    .dataframe tbody tr th {\n",
       "        vertical-align: top;\n",
       "    }\n",
       "\n",
       "    .dataframe thead th {\n",
       "        text-align: right;\n",
       "    }\n",
       "</style>\n",
       "<table border=\"1\" class=\"dataframe\">\n",
       "  <thead>\n",
       "    <tr style=\"text-align: right;\">\n",
       "      <th></th>\n",
       "      <th>age</th>\n",
       "      <th>sex</th>\n",
       "      <th>bmi</th>\n",
       "      <th>children</th>\n",
       "      <th>smoker</th>\n",
       "      <th>region</th>\n",
       "      <th>charges</th>\n",
       "      <th>insuranceclaim</th>\n",
       "    </tr>\n",
       "  </thead>\n",
       "  <tbody>\n",
       "    <tr>\n",
       "      <th>0</th>\n",
       "      <td>19</td>\n",
       "      <td>0</td>\n",
       "      <td>27.900</td>\n",
       "      <td>0</td>\n",
       "      <td>1</td>\n",
       "      <td>3</td>\n",
       "      <td>16884.92400</td>\n",
       "      <td>1</td>\n",
       "    </tr>\n",
       "    <tr>\n",
       "      <th>1</th>\n",
       "      <td>18</td>\n",
       "      <td>1</td>\n",
       "      <td>33.770</td>\n",
       "      <td>1</td>\n",
       "      <td>0</td>\n",
       "      <td>2</td>\n",
       "      <td>1725.55230</td>\n",
       "      <td>1</td>\n",
       "    </tr>\n",
       "    <tr>\n",
       "      <th>2</th>\n",
       "      <td>28</td>\n",
       "      <td>1</td>\n",
       "      <td>33.000</td>\n",
       "      <td>3</td>\n",
       "      <td>0</td>\n",
       "      <td>2</td>\n",
       "      <td>4449.46200</td>\n",
       "      <td>0</td>\n",
       "    </tr>\n",
       "    <tr>\n",
       "      <th>3</th>\n",
       "      <td>33</td>\n",
       "      <td>1</td>\n",
       "      <td>22.705</td>\n",
       "      <td>0</td>\n",
       "      <td>0</td>\n",
       "      <td>1</td>\n",
       "      <td>21984.47061</td>\n",
       "      <td>0</td>\n",
       "    </tr>\n",
       "    <tr>\n",
       "      <th>4</th>\n",
       "      <td>32</td>\n",
       "      <td>1</td>\n",
       "      <td>28.880</td>\n",
       "      <td>0</td>\n",
       "      <td>0</td>\n",
       "      <td>1</td>\n",
       "      <td>3866.85520</td>\n",
       "      <td>1</td>\n",
       "    </tr>\n",
       "  </tbody>\n",
       "</table>\n",
       "</div>"
      ],
      "text/plain": [
       "   age  sex     bmi  children  smoker  region      charges  insuranceclaim\n",
       "0   19    0  27.900         0       1       3  16884.92400               1\n",
       "1   18    1  33.770         1       0       2   1725.55230               1\n",
       "2   28    1  33.000         3       0       2   4449.46200               0\n",
       "3   33    1  22.705         0       0       1  21984.47061               0\n",
       "4   32    1  28.880         0       0       1   3866.85520               1"
      ]
     },
     "execution_count": 4,
     "metadata": {},
     "output_type": "execute_result"
    }
   ],
   "source": [
    "medical.head()"
   ]
  },
  {
   "cell_type": "markdown",
   "metadata": {},
   "source": [
    "__Q1:__ Plot the histogram of charges and calculate the mean and standard deviation. Comment on the appropriateness of these statistics for the data."
   ]
  },
  {
   "cell_type": "markdown",
   "metadata": {},
   "source": [
    "__A:__"
   ]
  },
  {
   "cell_type": "code",
   "execution_count": 5,
   "metadata": {},
   "outputs": [
    {
     "name": "stdout",
     "output_type": "stream",
     "text": [
      "mean = 13270.422265141257\n",
      "standard deviation = 12110.011236693994\n"
     ]
    }
   ],
   "source": [
    "# From our random sample of medical charges\n",
    "charges_xbar = medical.charges.mean() # sample mean\n",
    "charges_s = medical.charges.std() # sample standard deviation\n",
    "print('mean = ' + str(charges_xbar))\n",
    "print('standard deviation = ' + str(charges_s))"
   ]
  },
  {
   "cell_type": "code",
   "execution_count": 6,
   "metadata": {},
   "outputs": [
    {
     "data": {
      "image/png": "[encoded data removed]",
      "text/plain": [
       "<Figure size 640x480 with 1 Axes>"
      ]
     },
     "metadata": {},
     "output_type": "display_data"
    }
   ],
   "source": [
    "_ = medical.charges.hist()\n",
    "_ = plt.xlabel('charge amount')\n",
    "_ = plt.ylabel('frequency of charges')\n",
    "_ = plt.axvline(charges_xbar, color='C1')\n",
    "_ = plt.axvline(charges_xbar - charges_s, color='C1', linestyle='--')\n",
    "_ = plt.axvline(charges_xbar + charges_s, color='C1', linestyle='--')\n",
    "_ = plt.axvline(charges_xbar - charges_s*2, color='C1', linestyle='-.')\n",
    "_ = plt.axvline(charges_xbar + charges_s*2, color='C1', linestyle='-.')"
   ]
  },
  {
   "cell_type": "markdown",
   "metadata": {},
   "source": [
    "The plot above shows the histogram of the medical charges, the sample mean, and up to two standard deviations from the mean. The sample distribution is not a normal distribution, but rather an exponential distribution."
   ]
  },
  {
   "cell_type": "markdown",
   "metadata": {},
   "source": [
    "__Q2:__ The administrator is concerned that the actual average charge has fallen below 12,000, threatening the hospital's operational model. On the assumption that these data represent a random sample of charges, how would you justify that these data allow you to answer that question? And what would be the most appropriate frequentist test, of the ones discussed so far, to apply?"
   ]
  },
  {
   "cell_type": "markdown",
   "metadata": {},
   "source": [
    "__A:__ I recommend looking at the confidence interval of the mean of the sampling distribution of the sample means, created from bootstrapping the original population sample of medical charges."
   ]
  },
  {
   "cell_type": "markdown",
   "metadata": {},
   "source": [
    "__Q3:__ Given the nature of the administrator's concern, what is the appropriate confidence interval in this case? A ***one-sided*** or ***two-sided*** interval? (Refresh your understanding of this concept on p. 399 of the *AoS*). Calculate the critical value and the relevant 95% confidence interval for the mean, and comment on whether the administrator should be concerned."
   ]
  },
  {
   "cell_type": "markdown",
   "metadata": {},
   "source": [
    "__A:__ The appropriate confidence interval in this case is one-sided since the concern is only about the mean charge falling below 12,000."
   ]
  },
  {
   "cell_type": "code",
   "execution_count": 26,
   "metadata": {},
   "outputs": [],
   "source": [
    "# function to take random samples from our population with replacement\n",
    "def get_sample_charges(n):\n",
    "    return np.random.choice(medical.charges, n)"
   ]
  },
  {
   "cell_type": "code",
   "execution_count": 30,
   "metadata": {},
   "outputs": [],
   "source": [
    "bootstrapped_sample_means = []\n",
    "for i in range(1000):\n",
    "    bootstrapped_sample_means.append(get_sample_charges(len(medical.charges)).mean())"
   ]
  },
  {
   "cell_type": "code",
   "execution_count": 31,
   "metadata": {},
   "outputs": [
    {
     "data": {
      "image/png": "[encoded data removed]",
      "text/plain": [
       "<Figure size 640x480 with 1 Axes>"
      ]
     },
     "metadata": {},
     "output_type": "display_data"
    }
   ],
   "source": [
    "# plot the sampling distribution\n",
    "_ = plt.hist(bootstrapped_sample_means)\n",
    "_ = plt.xlabel('mean charge ($)')\n",
    "_ = plt.ylabel('frequency of charges out of 1000')\n",
    "_ = plt.title('Bootstrapped Sampling Distribution of 1000 Sample Means')"
   ]
  },
  {
   "cell_type": "markdown",
   "metadata": {},
   "source": [
    "The above is the bootstrapped sampling distribution of the means of 1000 samples the size of our original sample taken from the unknown population of medical charges. The Central Limit Theorem tells us the expected mean of this distribution will be equal to the population mean, and standard deviation of the sampling distribution will be $\\sigma / \\sqrt n$."
   ]
  },
  {
   "cell_type": "code",
   "execution_count": 41,
   "metadata": {},
   "outputs": [
    {
     "name": "stdout",
     "output_type": "stream",
     "text": [
      "sampling distribution mean = 13269.017880341522\n",
      "sampling distribution std = 333.3902572531692\n",
      "approx. population std = 12194.976307427798\n"
     ]
    }
   ],
   "source": [
    "# sampling distribution mean ~= population mean\n",
    "sample_dist_mean = np.mean(bootstrapped_sample_means)\n",
    "print('sampling distribution mean = ' + str(sample_dist_mean))\n",
    "\n",
    "# sampling distribution std\n",
    "sample_dist_std = np.std(bootstrapped_sample_means)\n",
    "print('sampling distribution std = ' + str(sample_dist_std))\n",
    "\n",
    "# From CLT: population standard deviation ~= sampling distribution standard deviation / sqrt(fixed sample size)\n",
    "approx_pop_std = sample_dist_std * np.sqrt(len(medical.charges))\n",
    "print('approx. population std = ' + str(approx_pop_std))"
   ]
  },
  {
   "cell_type": "code",
   "execution_count": 56,
   "metadata": {},
   "outputs": [
    {
     "name": "stdout",
     "output_type": "stream",
     "text": [
      "M.O.E. = -548.37817383316\n",
      "The one-sided 95% confidence interval for the mean medical charge is (12720.639706508362, inf)\n"
     ]
    }
   ],
   "source": [
    "# Mean Charge Margin of Error (M.O.E.) for 95% confidence (one-tailed)\n",
    "margin_of_error = norm.ppf(0.05) * sample_dist_std\n",
    "print('M.O.E. = ' + str(margin_of_error))\n",
    "\n",
    "# 95% confidence interval\n",
    "confidence_interval_95 = sample_dist_mean + margin_of_error, np.inf\n",
    "print('The one-sided 95% confidence interval for the mean medical charge is ' + str(confidence_interval_95))"
   ]
  },
  {
   "cell_type": "markdown",
   "metadata": {},
   "source": [
    "Given the results from our boostrapped sampling distribution statistics, we are confident that 95% of the time, the mean medical charge will be greater than or equal to 12,720.00. Therefore, the administator does not need to worry that the mean medical charge has fallen beneath the 12,000.00 threshold."
   ]
  },
  {
   "cell_type": "markdown",
   "metadata": {},
   "source": [
    "The administrator then wants to know whether people with insurance really are charged a different amount to those without.\n",
    "\n",
    "__Q4:__ State the null and alternative hypothesis here. Use the _t_-test for the difference between means, where the pooled standard deviation of the two groups is given by:\n",
    "\\begin{equation}\n",
    "s_p = \\sqrt{\\frac{(n_0 - 1)s^2_0 + (n_1 - 1)s^2_1}{n_0 + n_1 - 2}}\n",
    "\\end{equation}\n",
    "\n",
    "and the *t*-test statistic is then given by:\n",
    "\n",
    "\\begin{equation}\n",
    "t = \\frac{\\bar{x}_0 - \\bar{x}_1}{s_p \\sqrt{1/n_0 + 1/n_1}}.\n",
    "\\end{equation}\n",
    "\n",
    "(If you need some reminding of the general definition of ***t-statistic***, check out the definition on p. 404 of *AoS*). \n",
    "\n",
    "What assumption about the variances of the two groups are we making here?"
   ]
  },
  {
   "cell_type": "markdown",
   "metadata": {},
   "source": [
    "__A:__\n",
    "\n",
    "The null hypothesis (H0) is that the true difference between these group means is zero.\n",
    "\n",
    "The alternate hypothesis (Ha) is that the true difference is different from zero.\n",
    "\n",
    "*We are assuming the population standard deviation between the with and without insurance groups are the same."
   ]
  },
  {
   "cell_type": "markdown",
   "metadata": {},
   "source": [
    "__Q5:__ Perform this hypothesis test both manually, using the above formulae, and then using the appropriate function from [scipy.stats](https://docs.scipy.org/doc/scipy/reference/stats.html#statistical-tests) (hint, you're looking for a function to perform a _t_-test on two independent samples). For the manual approach, calculate the value of the test statistic and then its probability (the p-value). Verify you get the same results from both."
   ]
  },
  {
   "cell_type": "markdown",
   "metadata": {},
   "source": [
    "__A:__ "
   ]
  },
  {
   "cell_type": "code",
   "execution_count": 38,
   "metadata": {},
   "outputs": [
    {
     "name": "stdout",
     "output_type": "stream",
     "text": [
      "Sample Statistic: With Insurance | Without Insurance\n",
      "xbar = 16423.928276537663 | 8821.421892306294\n",
      "s = 14045.928418802127 | 6446.510126811736\n",
      "n = 783 | 555\n",
      "pooled std = 11520.034268775256\n",
      "t-test statistic = 11.89329903087671\n",
      "DOF = 1336\n",
      "p-value = 0.0\n"
     ]
    }
   ],
   "source": [
    "### By hand (i.e. using formulas above)\n",
    "# By using the t-test, we are assuming the data of our two groups\n",
    "#    are independent,\n",
    "#    are (approximately) normally distributed, and\n",
    "#    have a similar amount of variance within each group being compared (a.k.a. homogeneity of variance)\n",
    "#\n",
    "# Note:\n",
    "#    2-sample t-test (a.k.a. independent t-test)\n",
    "#    2-tailed t-test (only care if the groups are different from one another)\n",
    "\n",
    "# Group samples\n",
    "sample_with_insurance = medical.charges[medical.insuranceclaim == 1] # aliased as swi\n",
    "sample_without_insurance = medical.charges[medical.insuranceclaim == 0] # aliased as swoi\n",
    "\n",
    "# Sample statistics\n",
    "swi_mean = sample_with_insurance.mean()\n",
    "swi_std = sample_with_insurance.std()\n",
    "swi_n = len(sample_with_insurance)\n",
    "\n",
    "swoi_mean = sample_without_insurance.mean()\n",
    "swoi_std = sample_without_insurance.std()\n",
    "swoi_n = len(sample_without_insurance)\n",
    "\n",
    "print('Sample Statistic: With Insurance | Without Insurance')\n",
    "print('xbar = ' + str(swi_mean) + ' | ' + str(swoi_mean))\n",
    "print('s = ' + str(swi_std) + ' | ' + str(swoi_std))\n",
    "print('n = ' + str(swi_n) + ' | ' + str(swoi_n))\n",
    "\n",
    "# Pooled standard deviation\n",
    "s_pooled = np.sqrt( ((swi_n - 1)*swi_std**2 + (swoi_n - 1)*swoi_std**2) / (swi_n + swoi_n - 2) )\n",
    "print('pooled std = ' + str(s_pooled))\n",
    "\n",
    "# t-test statistic\n",
    "t_stat = (swi_mean - swoi_mean) / (s_pooled * np.sqrt(1/swi_n + 1/swoi_n))\n",
    "print('t-test statistic = ' + str(t_stat))\n",
    "\n",
    "# Degrees of freedom\n",
    "df = swi_n + swoi_n - 2\n",
    "print('DOF = ' + str(df))\n",
    "\n",
    "# p-value\n",
    "p_value = 1 - t.cdf(t_stat, df)\n",
    "print('p-value = ' + str(p_value))"
   ]
  },
  {
   "cell_type": "code",
   "execution_count": 40,
   "metadata": {},
   "outputs": [
    {
     "name": "stdout",
     "output_type": "stream",
     "text": [
      "From scipy.stats: t-test statistic = 11.893299030876712\n",
      "From scipy.stats: p-value = 4.461230231620717e-31\n"
     ]
    }
   ],
   "source": [
    "### Using scipy.stats\n",
    "statistic, pvalue = ttest_ind(\n",
    "    sample_with_insurance,\n",
    "    sample_without_insurance,\n",
    "    axis=0,\n",
    ")\n",
    "print('From scipy.stats: t-test statistic = ' + str(statistic))\n",
    "print('From scipy.stats: p-value = ' + str(pvalue))"
   ]
  },
  {
   "cell_type": "markdown",
   "metadata": {},
   "source": [
    "Congratulations! Hopefully you got the exact same numerical results. This shows that you correctly calculated the numbers by hand. Secondly, you used the correct function and saw that it's much easier to use. All you need to do is pass your data to it."
   ]
  },
  {
   "cell_type": "markdown",
   "metadata": {},
   "source": [
    "__Q6:__ Conceptual question: look through the documentation for statistical test functions in scipy.stats. You'll see the above _t_-test for a sample, but can you see an equivalent one for performing a *z*-test from a sample? Comment on your answer."
   ]
  },
  {
   "cell_type": "markdown",
   "metadata": {},
   "source": [
    "__A:__ I cannot find an equivalent function in scipy.stats for performing a z-test from a sample as the ttest_ind does for t-tests. However, the scipy.stats documentation suggests that there are topics that are out of scope for SciPy and are covered by other packages, such as statsmodels. Statsmodels does contain a ztest function that is equivalent to scipy.stats' ttest_ind function."
   ]
  },
  {
   "cell_type": "markdown",
   "metadata": {},
   "source": [
    "## Learning outcomes"
   ]
  },
  {
   "cell_type": "markdown",
   "metadata": {},
   "source": [
    "Having completed this project notebook, you now have good hands-on experience:\n",
    "* using the central limit theorem to help you apply frequentist techniques to answer questions that pertain to very non-normally distributed data from the real world\n",
    "* performing inference using such data to answer business questions\n",
    "* forming a hypothesis and framing the null and alternative hypotheses\n",
    "* testing this using a _t_-test"
   ]
  }
 ],
 "metadata": {
  "kernelspec": {
   "display_name": "Python 3 (ipykernel)",
   "language": "python",
   "name": "python3"
  },
  "language_info": {
   "codemirror_mode": {
    "name": "ipython",
    "version": 3
   },
   "file_extension": ".py",
   "mimetype": "text/x-python",
   "name": "python",
   "nbconvert_exporter": "python",
   "pygments_lexer": "ipython3",
   "version": "3.9.13"
  }
 },
 "nbformat": 4,
 "nbformat_minor": 2
}
